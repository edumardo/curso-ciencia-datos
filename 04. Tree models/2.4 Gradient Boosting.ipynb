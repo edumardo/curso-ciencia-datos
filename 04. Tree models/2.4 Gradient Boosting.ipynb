<<<<<<< HEAD
{"nbformat":4,"nbformat_minor":0,"metadata":{"anaconda-cloud":{},"kernelspec":{"display_name":"Python 3","language":"python","name":"python3"},"language_info":{"codemirror_mode":{"name":"ipython","version":3},"file_extension":".py","mimetype":"text/x-python","name":"python","nbconvert_exporter":"python","pygments_lexer":"ipython3","version":"3.7.3"},"name":"seminar13_optional_practice_trees_titanic.ipynb","colab":{"name":"2.4 Gradient Boosting.ipynb","provenance":[{"file_id":"https://github.com/CenticMurcia/curso-ciencia-datos/blob/master/04.%20Tree%20models/2.4%20Gradient%20Boosting.ipynb","timestamp":1580831603350}],"collapsed_sections":[]}},"cells":[{"cell_type":"markdown","metadata":{"id":"9VpItLvA59no","colab_type":"text"},"source":["# <center> [Adult salaries](https://archive.ics.uci.edu/ml/datasets/adult): Gradient boosting\n","### <center>Predict whether income exceeds $50K/yr based on census data.\n","\n","Link: https://www.kaggle.com/mattmet/income-prediction-xgboost-accuracy-86-02"]},{"cell_type":"code","metadata":{"id":"uSdKKDy759nx","colab_type":"code","colab":{}},"source":["import pandas as pd\n","import matplotlib.pyplot as plt\n","import seaborn as sns\n","sns.set()\n","\n","from sklearn.linear_model  import LogisticRegression\n","from sklearn.tree          import DecisionTreeClassifier\n","from sklearn.ensemble      import RandomForestClassifier\n","from sklearn.ensemble      import ExtraTreesClassifier\n","from sklearn.ensemble      import GradientBoostingClassifier\n","from xgboost               import XGBClassifier, plot_tree\n","\n","from sklearn.preprocessing   import LabelEncoder\n","from sklearn.model_selection import train_test_split\n","from sklearn.model_selection import StratifiedKFold\n","from sklearn.model_selection import cross_val_score\n","from sklearn.metrics         import accuracy_score, balanced_accuracy_score"],"execution_count":0,"outputs":[]},{"cell_type":"markdown","metadata":{"id":"F84Q8oax59oB","colab_type":"text"},"source":["# Leer CSV"]},{"cell_type":"code","metadata":{"id":"jN62wv7K59oG","colab_type":"code","colab":{"base_uri":"https://localhost:8080/","height":202},"outputId":"e6e80aff-ae4b-451e-b54c-cc989750b99f","executionInfo":{"status":"ok","timestamp":1580831740420,"user_tz":-60,"elapsed":4935,"user":{"displayName":"Eduardo Delgado Díaz","photoUrl":"https://lh3.googleusercontent.com/a-/AAuE7mCPOGeZtf6VFAf0JzOJtQtLsaLVvaGT_n6Uc-4gP3M=s64","userId":"08841810380336883894"}}},"source":["##### DOWNLOAD DATASET. ONLY IN COLAB !!!\n","!wget -P ./../data/ https://raw.githubusercontent.com/SaturdaysAI-Murcia/machine-learning/master/data/adult.csv"],"execution_count":3,"outputs":[{"output_type":"stream","text":["--2020-02-04 15:55:37--  https://raw.githubusercontent.com/SaturdaysAI-Murcia/machine-learning/master/data/adult.csv\n","Resolving raw.githubusercontent.com (raw.githubusercontent.com)... 151.101.0.133, 151.101.64.133, 151.101.128.133, ...\n","Connecting to raw.githubusercontent.com (raw.githubusercontent.com)|151.101.0.133|:443... connected.\n","HTTP request sent, awaiting response... 200 OK\n","Length: 3818789 (3.6M) [text/plain]\n","Saving to: ‘./../data/adult.csv.1’\n","\n","\radult.csv.1           0%[                    ]       0  --.-KB/s               \radult.csv.1         100%[===================>]   3.64M  --.-KB/s    in 0.04s   \n","\n","2020-02-04 15:55:37 (88.8 MB/s) - ‘./../data/adult.csv.1’ saved [3818789/3818789]\n","\n"],"name":"stdout"}]},{"cell_type":"code","metadata":{"id":"NyJM55zx59oQ","colab_type":"code","colab":{}},"source":["df = pd.read_csv(\"../data/adult.csv\")"],"execution_count":0,"outputs":[]},{"cell_type":"code","metadata":{"id":"Hn_S7E7p59ob","colab_type":"code","outputId":"44cb2a60-0bf4-4939-b952-1bfbd69eadb0","colab":{"base_uri":"https://localhost:8080/","height":279},"executionInfo":{"status":"ok","timestamp":1580831751507,"user_tz":-60,"elapsed":1853,"user":{"displayName":"Eduardo Delgado Díaz","photoUrl":"https://lh3.googleusercontent.com/a-/AAuE7mCPOGeZtf6VFAf0JzOJtQtLsaLVvaGT_n6Uc-4gP3M=s64","userId":"08841810380336883894"}}},"source":["df.head()"],"execution_count":6,"outputs":[{"output_type":"execute_result","data":{"text/html":["<div>\n","<style scoped>\n","    .dataframe tbody tr th:only-of-type {\n","        vertical-align: middle;\n","    }\n","\n","    .dataframe tbody tr th {\n","        vertical-align: top;\n","    }\n","\n","    .dataframe thead th {\n","        text-align: right;\n","    }\n","</style>\n","<table border=\"1\" class=\"dataframe\">\n","  <thead>\n","    <tr style=\"text-align: right;\">\n","      <th></th>\n","      <th>age</th>\n","      <th>workclass</th>\n","      <th>fnlwgt</th>\n","      <th>education</th>\n","      <th>education-num</th>\n","      <th>marital-status</th>\n","      <th>occupation</th>\n","      <th>relationship</th>\n","      <th>race</th>\n","      <th>sex</th>\n","      <th>capital-gain</th>\n","      <th>capital-loss</th>\n","      <th>hours-per-week</th>\n","      <th>native-country</th>\n","      <th>salary</th>\n","    </tr>\n","  </thead>\n","  <tbody>\n","    <tr>\n","      <th>0</th>\n","      <td>49</td>\n","      <td>Private</td>\n","      <td>101320</td>\n","      <td>Assoc-acdm</td>\n","      <td>12.0</td>\n","      <td>Married-civ-spouse</td>\n","      <td>NaN</td>\n","      <td>Wife</td>\n","      <td>White</td>\n","      <td>Female</td>\n","      <td>0</td>\n","      <td>1902</td>\n","      <td>40</td>\n","      <td>United-States</td>\n","      <td>&gt;=50k</td>\n","    </tr>\n","    <tr>\n","      <th>1</th>\n","      <td>44</td>\n","      <td>Private</td>\n","      <td>236746</td>\n","      <td>Masters</td>\n","      <td>14.0</td>\n","      <td>Divorced</td>\n","      <td>Exec-managerial</td>\n","      <td>Not-in-family</td>\n","      <td>White</td>\n","      <td>Male</td>\n","      <td>10520</td>\n","      <td>0</td>\n","      <td>45</td>\n","      <td>United-States</td>\n","      <td>&gt;=50k</td>\n","    </tr>\n","    <tr>\n","      <th>2</th>\n","      <td>38</td>\n","      <td>Private</td>\n","      <td>96185</td>\n","      <td>HS-grad</td>\n","      <td>NaN</td>\n","      <td>Divorced</td>\n","      <td>NaN</td>\n","      <td>Unmarried</td>\n","      <td>Black</td>\n","      <td>Female</td>\n","      <td>0</td>\n","      <td>0</td>\n","      <td>32</td>\n","      <td>United-States</td>\n","      <td>&lt;50k</td>\n","    </tr>\n","    <tr>\n","      <th>3</th>\n","      <td>38</td>\n","      <td>Self-emp-inc</td>\n","      <td>112847</td>\n","      <td>Prof-school</td>\n","      <td>15.0</td>\n","      <td>Married-civ-spouse</td>\n","      <td>Prof-specialty</td>\n","      <td>Husband</td>\n","      <td>Asian-Pac-Islander</td>\n","      <td>Male</td>\n","      <td>0</td>\n","      <td>0</td>\n","      <td>40</td>\n","      <td>United-States</td>\n","      <td>&gt;=50k</td>\n","    </tr>\n","    <tr>\n","      <th>4</th>\n","      <td>42</td>\n","      <td>Self-emp-not-inc</td>\n","      <td>82297</td>\n","      <td>7th-8th</td>\n","      <td>NaN</td>\n","      <td>Married-civ-spouse</td>\n","      <td>Other-service</td>\n","      <td>Wife</td>\n","      <td>Black</td>\n","      <td>Female</td>\n","      <td>0</td>\n","      <td>0</td>\n","      <td>50</td>\n","      <td>United-States</td>\n","      <td>&lt;50k</td>\n","    </tr>\n","  </tbody>\n","</table>\n","</div>"],"text/plain":["   age          workclass  fnlwgt  ... hours-per-week  native-country salary\n","0   49            Private  101320  ...             40   United-States  >=50k\n","1   44            Private  236746  ...             45   United-States  >=50k\n","2   38            Private   96185  ...             32   United-States   <50k\n","3   38       Self-emp-inc  112847  ...             40   United-States  >=50k\n","4   42   Self-emp-not-inc   82297  ...             50   United-States   <50k\n","\n","[5 rows x 15 columns]"]},"metadata":{"tags":[]},"execution_count":6}]},{"cell_type":"markdown","metadata":{"id":"vW-BuXzJ59oq","colab_type":"text"},"source":["# Qué queremos predecir? -> `df.Salary`"]},{"cell_type":"code","metadata":{"scrolled":false,"id":"ABgNPWXE59ot","colab_type":"code","outputId":"46088d85-dc5f-4834-c728-b16c3db5d070","colab":{"base_uri":"https://localhost:8080/","height":285},"executionInfo":{"status":"ok","timestamp":1580831780790,"user_tz":-60,"elapsed":2010,"user":{"displayName":"Eduardo Delgado Díaz","photoUrl":"https://lh3.googleusercontent.com/a-/AAuE7mCPOGeZtf6VFAf0JzOJtQtLsaLVvaGT_n6Uc-4gP3M=s64","userId":"08841810380336883894"}}},"source":["sns.countplot(df.salary);"],"execution_count":7,"outputs":[{"output_type":"display_data","data":{"image/png":"iVBORw0KGgoAAAANSUhEUgAAAZoAAAEMCAYAAAD9OXA9AAAABHNCSVQICAgIfAhkiAAAAAlwSFlz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\nAMAoQgMAMOr/AZT1xcaDWEbUAAAAAElFTkSuQmCC\n","text/plain":["<Figure size 432x288 with 1 Axes>"]},"metadata":{"tags":[]}}]},{"cell_type":"markdown","metadata":{"scrolled":false,"id":"NMjRa55K59o6","colab_type":"text"},"source":["# Variables"]},{"cell_type":"code","metadata":{"id":"FO9opTc459o-","colab_type":"code","outputId":"78dba7ad-5d54-47c1-aaa9-9bda57717d31","colab":{"base_uri":"https://localhost:8080/","height":202},"executionInfo":{"status":"ok","timestamp":1580831783939,"user_tz":-60,"elapsed":1344,"user":{"displayName":"Eduardo Delgado Díaz","photoUrl":"https://lh3.googleusercontent.com/a-/AAuE7mCPOGeZtf6VFAf0JzOJtQtLsaLVvaGT_n6Uc-4gP3M=s64","userId":"08841810380336883894"}}},"source":["cat  = df.select_dtypes(include=[object]).columns\n","num  = df.select_dtypes(exclude=[object, 'datetime64','timedelta64']).columns\n","time = df.select_dtypes(include=['datetime64']).columns\n","\n","print(\"\\nNumerical features:\\n\", num.values)\n","print(\"\\nCategorical features:\\n\", cat.values)\n","print(\"\\nDate/time features:\\n\", time.values)"],"execution_count":8,"outputs":[{"output_type":"stream","text":["\n","Numerical features:\n"," ['age' 'fnlwgt' 'education-num' 'capital-gain' 'capital-loss'\n"," 'hours-per-week']\n","\n","Categorical features:\n"," ['workclass' 'education' 'marital-status' 'occupation' 'relationship'\n"," 'race' 'sex' 'native-country' 'salary']\n","\n","Date/time features:\n"," []\n"],"name":"stdout"}]},{"cell_type":"markdown","metadata":{"id":"sPnNw2yh59pK","colab_type":"text"},"source":["# Missings"]},{"cell_type":"code","metadata":{"id":"LEwPycZZ59pN","colab_type":"code","outputId":"dab3c3b9-f790-4330-dd82-40a28dc0dfe7","colab":{"base_uri":"https://localhost:8080/","height":34},"executionInfo":{"status":"ok","timestamp":1580831788163,"user_tz":-60,"elapsed":1474,"user":{"displayName":"Eduardo Delgado Díaz","photoUrl":"https://lh3.googleusercontent.com/a-/AAuE7mCPOGeZtf6VFAf0JzOJtQtLsaLVvaGT_n6Uc-4gP3M=s64","userId":"08841810380336883894"}}},"source":["df.shape"],"execution_count":9,"outputs":[{"output_type":"execute_result","data":{"text/plain":["(32561, 15)"]},"metadata":{"tags":[]},"execution_count":9}]},{"cell_type":"code","metadata":{"id":"MPQt-0NJ59pX","colab_type":"code","outputId":"eb814fcb-d3f4-47ee-f165-9508faca016d","colab":{"base_uri":"https://localhost:8080/","height":34},"executionInfo":{"status":"ok","timestamp":1580831790215,"user_tz":-60,"elapsed":1845,"user":{"displayName":"Eduardo Delgado Díaz","photoUrl":"https://lh3.googleusercontent.com/a-/AAuE7mCPOGeZtf6VFAf0JzOJtQtLsaLVvaGT_n6Uc-4gP3M=s64","userId":"08841810380336883894"}}},"source":["df = df.dropna(axis='rows')\n","df.shape"],"execution_count":10,"outputs":[{"output_type":"execute_result","data":{"text/plain":["(31812, 15)"]},"metadata":{"tags":[]},"execution_count":10}]},{"cell_type":"markdown","metadata":{"id":"Mu5nmKSP59pj","colab_type":"text"},"source":["# Categorical"]},{"cell_type":"code","metadata":{"id":"yg_6h6br59pt","colab_type":"code","outputId":"80bf34ce-8d58-47e7-b111-2b9acb4a7ce3","colab":{"base_uri":"https://localhost:8080/","height":195},"executionInfo":{"status":"ok","timestamp":1580831795343,"user_tz":-60,"elapsed":1336,"user":{"displayName":"Eduardo Delgado Díaz","photoUrl":"https://lh3.googleusercontent.com/a-/AAuE7mCPOGeZtf6VFAf0JzOJtQtLsaLVvaGT_n6Uc-4gP3M=s64","userId":"08841810380336883894"}}},"source":["df[cat] = df[cat].apply(LabelEncoder().fit_transform)\n","df.head()"],"execution_count":11,"outputs":[{"output_type":"execute_result","data":{"text/html":["<div>\n","<style scoped>\n","    .dataframe tbody tr th:only-of-type {\n","        vertical-align: middle;\n","    }\n","\n","    .dataframe tbody tr th {\n","        vertical-align: top;\n","    }\n","\n","    .dataframe thead th {\n","        text-align: right;\n","    }\n","</style>\n","<table border=\"1\" class=\"dataframe\">\n","  <thead>\n","    <tr style=\"text-align: right;\">\n","      <th></th>\n","      <th>age</th>\n","      <th>workclass</th>\n","      <th>fnlwgt</th>\n","      <th>education</th>\n","      <th>education-num</th>\n","      <th>marital-status</th>\n","      <th>occupation</th>\n","      <th>relationship</th>\n","      <th>race</th>\n","      <th>sex</th>\n","      <th>capital-gain</th>\n","      <th>capital-loss</th>\n","      <th>hours-per-week</th>\n","      <th>native-country</th>\n","      <th>salary</th>\n","    </tr>\n","  </thead>\n","  <tbody>\n","    <tr>\n","      <th>1</th>\n","      <td>44</td>\n","      <td>4</td>\n","      <td>236746</td>\n","      <td>12</td>\n","      <td>14.0</td>\n","      <td>0</td>\n","      <td>4</td>\n","      <td>1</td>\n","      <td>4</td>\n","      <td>1</td>\n","      <td>10520</td>\n","      <td>0</td>\n","      <td>45</td>\n","      <td>39</td>\n","      <td>1</td>\n","    </tr>\n","    <tr>\n","      <th>3</th>\n","      <td>38</td>\n","      <td>5</td>\n","      <td>112847</td>\n","      <td>14</td>\n","      <td>15.0</td>\n","      <td>2</td>\n","      <td>10</td>\n","      <td>0</td>\n","      <td>1</td>\n","      <td>1</td>\n","      <td>0</td>\n","      <td>0</td>\n","      <td>40</td>\n","      <td>39</td>\n","      <td>1</td>\n","    </tr>\n","    <tr>\n","      <th>5</th>\n","      <td>20</td>\n","      <td>4</td>\n","      <td>63210</td>\n","      <td>11</td>\n","      <td>9.0</td>\n","      <td>4</td>\n","      <td>6</td>\n","      <td>3</td>\n","      <td>4</td>\n","      <td>1</td>\n","      <td>0</td>\n","      <td>0</td>\n","      <td>15</td>\n","      <td>39</td>\n","      <td>0</td>\n","    </tr>\n","    <tr>\n","      <th>8</th>\n","      <td>46</td>\n","      <td>4</td>\n","      <td>328216</td>\n","      <td>11</td>\n","      <td>9.0</td>\n","      <td>2</td>\n","      <td>3</td>\n","      <td>0</td>\n","      <td>4</td>\n","      <td>1</td>\n","      <td>0</td>\n","      <td>0</td>\n","      <td>40</td>\n","      <td>39</td>\n","      <td>1</td>\n","    </tr>\n","    <tr>\n","      <th>21</th>\n","      <td>26</td>\n","      <td>4</td>\n","      <td>746432</td>\n","      <td>11</td>\n","      <td>9.0</td>\n","      <td>4</td>\n","      <td>6</td>\n","      <td>3</td>\n","      <td>2</td>\n","      <td>1</td>\n","      <td>0</td>\n","      <td>0</td>\n","      <td>48</td>\n","      <td>39</td>\n","      <td>0</td>\n","    </tr>\n","  </tbody>\n","</table>\n","</div>"],"text/plain":["    age  workclass  fnlwgt  ...  hours-per-week  native-country  salary\n","1    44          4  236746  ...              45              39       1\n","3    38          5  112847  ...              40              39       1\n","5    20          4   63210  ...              15              39       0\n","8    46          4  328216  ...              40              39       1\n","21   26          4  746432  ...              48              39       0\n","\n","[5 rows x 15 columns]"]},"metadata":{"tags":[]},"execution_count":11}]},{"cell_type":"markdown","metadata":{"id":"Th8iALlF59p7","colab_type":"text"},"source":["# Models"]},{"cell_type":"code","metadata":{"id":"OwUPKU1k59p-","colab_type":"code","colab":{}},"source":["x = df[['age', 'workclass', 'fnlwgt', 'education', 'education-num',\n","       'marital-status', 'occupation', 'relationship', 'race', 'sex',\n","       'capital-gain', 'capital-loss', 'hours-per-week', 'native-country'\n","       ]]\n","y = df[\"salary\"]"],"execution_count":0,"outputs":[]},{"cell_type":"code","metadata":{"id":"taidN78759qP","colab_type":"code","outputId":"989e616c-dd4e-4866-e35a-362cab961fdf","colab":{"base_uri":"https://localhost:8080/","height":134},"executionInfo":{"status":"ok","timestamp":1580832278469,"user_tz":-60,"elapsed":70836,"user":{"displayName":"Eduardo Delgado Díaz","photoUrl":"https://lh3.googleusercontent.com/a-/AAuE7mCPOGeZtf6VFAf0JzOJtQtLsaLVvaGT_n6Uc-4gP3M=s64","userId":"08841810380336883894"}}},"source":["models = [\n","    ('Logistic Regression', LogisticRegression(n_jobs=-1)),\n","    ('Decision Tree',       DecisionTreeClassifier()),\n","    ('Extra Trees',         ExtraTreesClassifier(n_jobs=-1)),   # parecido a random forest\n","    ('Random Forest',       RandomForestClassifier(n_jobs=-1)),\n","    ('Gradient Boosting',   GradientBoostingClassifier()),\n","    ('XGBoost',             XGBClassifier(n_estimators=100)),\n","    ('XGBoost 250',         XGBClassifier(n_estimators=250))\n","]\n","\n","outcome = []\n","Modelnames = []\n","\n","for name, model in models:\n","    skf = StratifiedKFold(n_splits=5, shuffle=True, random_state=0) # validación cruzada estratificada en 5 grupos.\n","    cv_r = cross_val_score(model, x, y, cv=skf, scoring='accuracy') #\n","    outcome.append(cv_r)\n","    Modelnames.append(name)\n","    print(\"%s: %.2f%% (%.2f%%)\" % (name, cv_r.mean()*100, cv_r.std()*100))"],"execution_count":19,"outputs":[{"output_type":"stream","text":["Logistic Regression: 78.99% (0.63%)\n","Decision Tree: 81.38% (0.47%)\n","Extra Trees: 84.60% (0.39%)\n","Random Forest: 85.70% (0.34%)\n","Gradient Boosting: 86.56% (0.35%)\n","XGBoost: 86.49% (0.43%)\n","XGBoost 250: 87.03% (0.41%)\n"],"name":"stdout"}]},{"cell_type":"code","metadata":{"id":"X3FBgwJf59qd","colab_type":"code","outputId":"abe77f90-37b6-4f75-f28b-c9e77dcf494e","colab":{"base_uri":"https://localhost:8080/","height":396},"executionInfo":{"status":"ok","timestamp":1580832307663,"user_tz":-60,"elapsed":934,"user":{"displayName":"Eduardo Delgado Díaz","photoUrl":"https://lh3.googleusercontent.com/a-/AAuE7mCPOGeZtf6VFAf0JzOJtQtLsaLVvaGT_n6Uc-4gP3M=s64","userId":"08841810380336883894"}}},"source":["results ={'Names': Modelnames,'Results': outcome}\n","plt.figure(figsize=(20,6))\n","sns.boxplot(x='Names',y='Results',data=results)"],"execution_count":20,"outputs":[{"output_type":"execute_result","data":{"text/plain":["<matplotlib.axes._subplots.AxesSubplot at 0x7f9e58feaeb8>"]},"metadata":{"tags":[]},"execution_count":20},{"output_type":"display_data","data":{"image/png":"iVBORw0KGgoAAAANSUhEUgAABIwAAAFqCAYAAAB4c8GXAAAABHNCSVQICAgIfAhkiAAAAAlwSFlz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\nRU5ErkJggg==\n","text/plain":["<Figure size 1440x432 with 1 Axes>"]},"metadata":{"tags":[]}}]},{"cell_type":"code","metadata":{"id":"xIDat6NP7upx","colab_type":"code","colab":{}},"source":[""],"execution_count":0,"outputs":[]}]}
=======
{
 "cells": [
  {
   "cell_type": "markdown",
   "metadata": {},
   "source": [
    "# <center> [Adult salaries](https://archive.ics.uci.edu/ml/datasets/adult): Gradient boosting\n",
    "### <center>Predict whether income exceeds $50K/yr based on census data.\n",
    "\n",
    "Link: https://www.kaggle.com/mattmet/income-prediction-xgboost-accuracy-86-02"
   ]
  },
  {
   "cell_type": "code",
   "execution_count": 1,
   "metadata": {},
   "outputs": [],
   "source": [
    "import pandas as pd\n",
    "import matplotlib.pyplot as plt\n",
    "import seaborn as sns\n",
    "sns.set()\n",
    "\n",
    "from sklearn.linear_model  import LogisticRegression\n",
    "from sklearn.tree          import DecisionTreeClassifier\n",
    "from sklearn.ensemble      import RandomForestClassifier\n",
    "from sklearn.ensemble      import ExtraTreesClassifier\n",
    "from sklearn.ensemble      import GradientBoostingClassifier\n",
    "from xgboost               import XGBClassifier, plot_tree\n",
    "\n",
    "from sklearn.preprocessing   import LabelEncoder\n",
    "from sklearn.model_selection import train_test_split\n",
    "from sklearn.model_selection import StratifiedKFold\n",
    "from sklearn.model_selection import cross_val_score\n",
    "from sklearn.metrics         import accuracy_score, balanced_accuracy_score"
   ]
  },
  {
   "cell_type": "markdown",
   "metadata": {},
   "source": [
    "# Leer CSV"
   ]
  },
  {
   "cell_type": "code",
   "execution_count": 2,
   "metadata": {},
   "outputs": [],
   "source": [
    "##### DOWNLOAD DATASET. ONLY IN COLAB !!!\n",
    "#!wget -P ./../data/ https://raw.githubusercontent.com/SaturdaysAI-Murcia/machine-learning/master/data/adult.csv"
   ]
  },
  {
   "cell_type": "code",
   "execution_count": 3,
   "metadata": {},
   "outputs": [],
   "source": [
    "df = pd.read_csv(\"../data/adult.csv\")"
   ]
  },
  {
   "cell_type": "code",
   "execution_count": 4,
   "metadata": {},
   "outputs": [
    {
     "data": {
      "text/html": [
       "<div>\n",
       "<style scoped>\n",
       "    .dataframe tbody tr th:only-of-type {\n",
       "        vertical-align: middle;\n",
       "    }\n",
       "\n",
       "    .dataframe tbody tr th {\n",
       "        vertical-align: top;\n",
       "    }\n",
       "\n",
       "    .dataframe thead th {\n",
       "        text-align: right;\n",
       "    }\n",
       "</style>\n",
       "<table border=\"1\" class=\"dataframe\">\n",
       "  <thead>\n",
       "    <tr style=\"text-align: right;\">\n",
       "      <th></th>\n",
       "      <th>age</th>\n",
       "      <th>workclass</th>\n",
       "      <th>fnlwgt</th>\n",
       "      <th>education</th>\n",
       "      <th>education-num</th>\n",
       "      <th>marital-status</th>\n",
       "      <th>occupation</th>\n",
       "      <th>relationship</th>\n",
       "      <th>race</th>\n",
       "      <th>sex</th>\n",
       "      <th>capital-gain</th>\n",
       "      <th>capital-loss</th>\n",
       "      <th>hours-per-week</th>\n",
       "      <th>native-country</th>\n",
       "      <th>salary</th>\n",
       "    </tr>\n",
       "  </thead>\n",
       "  <tbody>\n",
       "    <tr>\n",
       "      <th>0</th>\n",
       "      <td>49</td>\n",
       "      <td>Private</td>\n",
       "      <td>101320</td>\n",
       "      <td>Assoc-acdm</td>\n",
       "      <td>12.0</td>\n",
       "      <td>Married-civ-spouse</td>\n",
       "      <td>NaN</td>\n",
       "      <td>Wife</td>\n",
       "      <td>White</td>\n",
       "      <td>Female</td>\n",
       "      <td>0</td>\n",
       "      <td>1902</td>\n",
       "      <td>40</td>\n",
       "      <td>United-States</td>\n",
       "      <td>&gt;=50k</td>\n",
       "    </tr>\n",
       "    <tr>\n",
       "      <th>1</th>\n",
       "      <td>44</td>\n",
       "      <td>Private</td>\n",
       "      <td>236746</td>\n",
       "      <td>Masters</td>\n",
       "      <td>14.0</td>\n",
       "      <td>Divorced</td>\n",
       "      <td>Exec-managerial</td>\n",
       "      <td>Not-in-family</td>\n",
       "      <td>White</td>\n",
       "      <td>Male</td>\n",
       "      <td>10520</td>\n",
       "      <td>0</td>\n",
       "      <td>45</td>\n",
       "      <td>United-States</td>\n",
       "      <td>&gt;=50k</td>\n",
       "    </tr>\n",
       "    <tr>\n",
       "      <th>2</th>\n",
       "      <td>38</td>\n",
       "      <td>Private</td>\n",
       "      <td>96185</td>\n",
       "      <td>HS-grad</td>\n",
       "      <td>NaN</td>\n",
       "      <td>Divorced</td>\n",
       "      <td>NaN</td>\n",
       "      <td>Unmarried</td>\n",
       "      <td>Black</td>\n",
       "      <td>Female</td>\n",
       "      <td>0</td>\n",
       "      <td>0</td>\n",
       "      <td>32</td>\n",
       "      <td>United-States</td>\n",
       "      <td>&lt;50k</td>\n",
       "    </tr>\n",
       "    <tr>\n",
       "      <th>3</th>\n",
       "      <td>38</td>\n",
       "      <td>Self-emp-inc</td>\n",
       "      <td>112847</td>\n",
       "      <td>Prof-school</td>\n",
       "      <td>15.0</td>\n",
       "      <td>Married-civ-spouse</td>\n",
       "      <td>Prof-specialty</td>\n",
       "      <td>Husband</td>\n",
       "      <td>Asian-Pac-Islander</td>\n",
       "      <td>Male</td>\n",
       "      <td>0</td>\n",
       "      <td>0</td>\n",
       "      <td>40</td>\n",
       "      <td>United-States</td>\n",
       "      <td>&gt;=50k</td>\n",
       "    </tr>\n",
       "    <tr>\n",
       "      <th>4</th>\n",
       "      <td>42</td>\n",
       "      <td>Self-emp-not-inc</td>\n",
       "      <td>82297</td>\n",
       "      <td>7th-8th</td>\n",
       "      <td>NaN</td>\n",
       "      <td>Married-civ-spouse</td>\n",
       "      <td>Other-service</td>\n",
       "      <td>Wife</td>\n",
       "      <td>Black</td>\n",
       "      <td>Female</td>\n",
       "      <td>0</td>\n",
       "      <td>0</td>\n",
       "      <td>50</td>\n",
       "      <td>United-States</td>\n",
       "      <td>&lt;50k</td>\n",
       "    </tr>\n",
       "  </tbody>\n",
       "</table>\n",
       "</div>"
      ],
      "text/plain": [
       "   age          workclass  fnlwgt     education  education-num  \\\n",
       "0   49            Private  101320    Assoc-acdm           12.0   \n",
       "1   44            Private  236746       Masters           14.0   \n",
       "2   38            Private   96185       HS-grad            NaN   \n",
       "3   38       Self-emp-inc  112847   Prof-school           15.0   \n",
       "4   42   Self-emp-not-inc   82297       7th-8th            NaN   \n",
       "\n",
       "        marital-status        occupation    relationship                 race  \\\n",
       "0   Married-civ-spouse               NaN            Wife                White   \n",
       "1             Divorced   Exec-managerial   Not-in-family                White   \n",
       "2             Divorced               NaN       Unmarried                Black   \n",
       "3   Married-civ-spouse    Prof-specialty         Husband   Asian-Pac-Islander   \n",
       "4   Married-civ-spouse     Other-service            Wife                Black   \n",
       "\n",
       "       sex  capital-gain  capital-loss  hours-per-week  native-country salary  \n",
       "0   Female             0          1902              40   United-States  >=50k  \n",
       "1     Male         10520             0              45   United-States  >=50k  \n",
       "2   Female             0             0              32   United-States   <50k  \n",
       "3     Male             0             0              40   United-States  >=50k  \n",
       "4   Female             0             0              50   United-States   <50k  "
      ]
     },
     "execution_count": 4,
     "metadata": {},
     "output_type": "execute_result"
    }
   ],
   "source": [
    "df.head()"
   ]
  },
  {
   "cell_type": "markdown",
   "metadata": {},
   "source": [
    "# Qué queremos predecir? -> `df.salary`"
   ]
  },
  {
   "cell_type": "code",
   "execution_count": 5,
   "metadata": {
    "scrolled": false
   },
   "outputs": [
    {
     "data": {
      "image/png": "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\n",
      "text/plain": [
       "<Figure size 432x288 with 1 Axes>"
      ]
     },
     "metadata": {
      "needs_background": "light"
     },
     "output_type": "display_data"
    }
   ],
   "source": [
    "sns.countplot(df.salary);"
   ]
  },
  {
   "cell_type": "markdown",
   "metadata": {
    "scrolled": false
   },
   "source": [
    "# Variables"
   ]
  },
  {
   "cell_type": "code",
   "execution_count": 6,
   "metadata": {},
   "outputs": [
    {
     "name": "stdout",
     "output_type": "stream",
     "text": [
      "\n",
      "Numerical features:\n",
      " ['age' 'fnlwgt' 'education-num' 'capital-gain' 'capital-loss'\n",
      " 'hours-per-week']\n",
      "\n",
      "Categorical features:\n",
      " ['workclass' 'education' 'marital-status' 'occupation' 'relationship'\n",
      " 'race' 'sex' 'native-country' 'salary']\n",
      "\n",
      "Date/time features:\n",
      " []\n"
     ]
    }
   ],
   "source": [
    "cat  = df.select_dtypes(include=[object]).columns\n",
    "num  = df.select_dtypes(exclude=[object, 'datetime64','timedelta64']).columns\n",
    "time = df.select_dtypes(include=['datetime64']).columns\n",
    "\n",
    "print(\"\\nNumerical features:\\n\", num.values)\n",
    "print(\"\\nCategorical features:\\n\", cat.values)\n",
    "print(\"\\nDate/time features:\\n\", time.values)"
   ]
  },
  {
   "cell_type": "markdown",
   "metadata": {},
   "source": [
    "# Missings"
   ]
  },
  {
   "cell_type": "code",
   "execution_count": 7,
   "metadata": {},
   "outputs": [
    {
     "data": {
      "text/plain": [
       "(32561, 15)"
      ]
     },
     "execution_count": 7,
     "metadata": {},
     "output_type": "execute_result"
    }
   ],
   "source": [
    "df.shape"
   ]
  },
  {
   "cell_type": "code",
   "execution_count": 8,
   "metadata": {},
   "outputs": [
    {
     "data": {
      "text/plain": [
       "(31812, 15)"
      ]
     },
     "execution_count": 8,
     "metadata": {},
     "output_type": "execute_result"
    }
   ],
   "source": [
    "df = df.dropna(axis='rows')\n",
    "df.shape"
   ]
  },
  {
   "cell_type": "markdown",
   "metadata": {},
   "source": [
    "# Categorical"
   ]
  },
  {
   "cell_type": "code",
   "execution_count": 9,
   "metadata": {},
   "outputs": [
    {
     "data": {
      "text/html": [
       "<div>\n",
       "<style scoped>\n",
       "    .dataframe tbody tr th:only-of-type {\n",
       "        vertical-align: middle;\n",
       "    }\n",
       "\n",
       "    .dataframe tbody tr th {\n",
       "        vertical-align: top;\n",
       "    }\n",
       "\n",
       "    .dataframe thead th {\n",
       "        text-align: right;\n",
       "    }\n",
       "</style>\n",
       "<table border=\"1\" class=\"dataframe\">\n",
       "  <thead>\n",
       "    <tr style=\"text-align: right;\">\n",
       "      <th></th>\n",
       "      <th>age</th>\n",
       "      <th>workclass</th>\n",
       "      <th>fnlwgt</th>\n",
       "      <th>education</th>\n",
       "      <th>education-num</th>\n",
       "      <th>marital-status</th>\n",
       "      <th>occupation</th>\n",
       "      <th>relationship</th>\n",
       "      <th>race</th>\n",
       "      <th>sex</th>\n",
       "      <th>capital-gain</th>\n",
       "      <th>capital-loss</th>\n",
       "      <th>hours-per-week</th>\n",
       "      <th>native-country</th>\n",
       "      <th>salary</th>\n",
       "    </tr>\n",
       "  </thead>\n",
       "  <tbody>\n",
       "    <tr>\n",
       "      <th>1</th>\n",
       "      <td>44</td>\n",
       "      <td>4</td>\n",
       "      <td>236746</td>\n",
       "      <td>12</td>\n",
       "      <td>14.0</td>\n",
       "      <td>0</td>\n",
       "      <td>4</td>\n",
       "      <td>1</td>\n",
       "      <td>4</td>\n",
       "      <td>1</td>\n",
       "      <td>10520</td>\n",
       "      <td>0</td>\n",
       "      <td>45</td>\n",
       "      <td>39</td>\n",
       "      <td>1</td>\n",
       "    </tr>\n",
       "    <tr>\n",
       "      <th>3</th>\n",
       "      <td>38</td>\n",
       "      <td>5</td>\n",
       "      <td>112847</td>\n",
       "      <td>14</td>\n",
       "      <td>15.0</td>\n",
       "      <td>2</td>\n",
       "      <td>10</td>\n",
       "      <td>0</td>\n",
       "      <td>1</td>\n",
       "      <td>1</td>\n",
       "      <td>0</td>\n",
       "      <td>0</td>\n",
       "      <td>40</td>\n",
       "      <td>39</td>\n",
       "      <td>1</td>\n",
       "    </tr>\n",
       "    <tr>\n",
       "      <th>5</th>\n",
       "      <td>20</td>\n",
       "      <td>4</td>\n",
       "      <td>63210</td>\n",
       "      <td>11</td>\n",
       "      <td>9.0</td>\n",
       "      <td>4</td>\n",
       "      <td>6</td>\n",
       "      <td>3</td>\n",
       "      <td>4</td>\n",
       "      <td>1</td>\n",
       "      <td>0</td>\n",
       "      <td>0</td>\n",
       "      <td>15</td>\n",
       "      <td>39</td>\n",
       "      <td>0</td>\n",
       "    </tr>\n",
       "    <tr>\n",
       "      <th>8</th>\n",
       "      <td>46</td>\n",
       "      <td>4</td>\n",
       "      <td>328216</td>\n",
       "      <td>11</td>\n",
       "      <td>9.0</td>\n",
       "      <td>2</td>\n",
       "      <td>3</td>\n",
       "      <td>0</td>\n",
       "      <td>4</td>\n",
       "      <td>1</td>\n",
       "      <td>0</td>\n",
       "      <td>0</td>\n",
       "      <td>40</td>\n",
       "      <td>39</td>\n",
       "      <td>1</td>\n",
       "    </tr>\n",
       "    <tr>\n",
       "      <th>21</th>\n",
       "      <td>26</td>\n",
       "      <td>4</td>\n",
       "      <td>746432</td>\n",
       "      <td>11</td>\n",
       "      <td>9.0</td>\n",
       "      <td>4</td>\n",
       "      <td>6</td>\n",
       "      <td>3</td>\n",
       "      <td>2</td>\n",
       "      <td>1</td>\n",
       "      <td>0</td>\n",
       "      <td>0</td>\n",
       "      <td>48</td>\n",
       "      <td>39</td>\n",
       "      <td>0</td>\n",
       "    </tr>\n",
       "  </tbody>\n",
       "</table>\n",
       "</div>"
      ],
      "text/plain": [
       "    age  workclass  fnlwgt  education  education-num  marital-status  \\\n",
       "1    44          4  236746         12           14.0               0   \n",
       "3    38          5  112847         14           15.0               2   \n",
       "5    20          4   63210         11            9.0               4   \n",
       "8    46          4  328216         11            9.0               2   \n",
       "21   26          4  746432         11            9.0               4   \n",
       "\n",
       "    occupation  relationship  race  sex  capital-gain  capital-loss  \\\n",
       "1            4             1     4    1         10520             0   \n",
       "3           10             0     1    1             0             0   \n",
       "5            6             3     4    1             0             0   \n",
       "8            3             0     4    1             0             0   \n",
       "21           6             3     2    1             0             0   \n",
       "\n",
       "    hours-per-week  native-country  salary  \n",
       "1               45              39       1  \n",
       "3               40              39       1  \n",
       "5               15              39       0  \n",
       "8               40              39       1  \n",
       "21              48              39       0  "
      ]
     },
     "execution_count": 9,
     "metadata": {},
     "output_type": "execute_result"
    }
   ],
   "source": [
    "df[cat] = df[cat].apply(LabelEncoder().fit_transform)\n",
    "df.head()"
   ]
  },
  {
   "cell_type": "markdown",
   "metadata": {},
   "source": [
    "# Models"
   ]
  },
  {
   "cell_type": "code",
   "execution_count": 10,
   "metadata": {},
   "outputs": [],
   "source": [
    "x = df[['age', 'workclass', 'fnlwgt', 'education', 'education-num',\n",
    "       'marital-status', 'occupation', 'relationship', 'race', 'sex',\n",
    "       'capital-gain', 'capital-loss', 'hours-per-week', 'native-country'\n",
    "       ]]\n",
    "y = df[\"salary\"]"
   ]
  },
  {
   "cell_type": "code",
   "execution_count": 13,
   "metadata": {},
   "outputs": [
    {
     "name": "stdout",
     "output_type": "stream",
     "text": [
      "Logistic Regression: 78.99% (0.63%)\n",
      "Decision Tree: 81.23% (0.40%)\n",
      "Extra Trees: 84.57% (0.30%)\n",
      "Random Forest: 85.67% (0.26%)\n",
      "Gradient Boosting: 86.56% (0.35%)\n",
      "XGBoost: 87.03% (0.41%)\n"
     ]
    }
   ],
   "source": [
    "models = [\n",
    "    ('Logistic Regression', LogisticRegression(n_jobs=-1)),\n",
    "    ('Decision Tree',       DecisionTreeClassifier()),\n",
    "    ('Extra Trees',         ExtraTreesClassifier(n_jobs=-1)),\n",
    "    ('Random Forest',       RandomForestClassifier(n_jobs=-1)),\n",
    "    ('Gradient Boosting',   GradientBoostingClassifier()),\n",
    "    ('XGBoost',             XGBClassifier(n_estimators=250))\n",
    "]\n",
    "\n",
    "outcome = []\n",
    "Modelnames = []\n",
    "\n",
    "for name, model in models:\n",
    "    skf = StratifiedKFold(n_splits=5, shuffle=True, random_state=0)\n",
    "    cv_r = cross_val_score(model, x, y, cv=skf, scoring='accuracy')\n",
    "    outcome.append(cv_r)\n",
    "    Modelnames.append(name)\n",
    "    print(\"%s: %.2f%% (%.2f%%)\" % (name, cv_r.mean()*100, cv_r.std()*100))"
   ]
  },
  {
   "cell_type": "code",
   "execution_count": 14,
   "metadata": {},
   "outputs": [
    {
     "data": {
      "text/plain": [
       "<matplotlib.axes._subplots.AxesSubplot at 0x127024048>"
      ]
     },
     "execution_count": 14,
     "metadata": {},
     "output_type": "execute_result"
    },
    {
     "data": {
      "image/png": "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\n",
      "text/plain": [
       "<Figure size 1152x432 with 1 Axes>"
      ]
     },
     "metadata": {
      "needs_background": "light"
     },
     "output_type": "display_data"
    }
   ],
   "source": [
    "results ={'Names': Modelnames,'Results': outcome}\n",
    "plt.figure(figsize=(16,6))\n",
    "sns.boxplot(x='Names',y='Results',data=results)"
   ]
  },
  {
   "cell_type": "code",
   "execution_count": null,
   "metadata": {},
   "outputs": [],
   "source": []
  }
 ],
 "metadata": {
  "anaconda-cloud": {},
  "kernelspec": {
   "display_name": "Python 3",
   "language": "python",
   "name": "python3"
  },
  "language_info": {
   "codemirror_mode": {
    "name": "ipython",
    "version": 3
   },
   "file_extension": ".py",
   "mimetype": "text/x-python",
   "name": "python",
   "nbconvert_exporter": "python",
   "pygments_lexer": "ipython3",
   "version": "3.7.3"
  },
  "name": "seminar13_optional_practice_trees_titanic.ipynb"
 },
 "nbformat": 4,
 "nbformat_minor": 4
}
>>>>>>> 4237b528693c62d890e154524025dc002ec6c95e
